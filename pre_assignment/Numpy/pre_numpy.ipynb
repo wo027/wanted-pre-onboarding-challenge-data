{
 "cells": [
  {
   "cell_type": "code",
   "execution_count": 1,
   "id": "a95566d2",
   "metadata": {},
   "outputs": [],
   "source": [
    "import numpy as np"
   ]
  },
  {
   "cell_type": "markdown",
   "id": "195c6505",
   "metadata": {},
   "source": [
    "### 1. 값이 10~49인 numpy array를 만드세요"
   ]
  },
  {
   "cell_type": "code",
   "execution_count": 2,
   "id": "c6e642a7",
   "metadata": {},
   "outputs": [
    {
     "name": "stdout",
     "output_type": "stream",
     "text": [
      "[10 11 12 13 14 15 16 17 18 19 20 21 22 23 24 25 26 27 28 29 30 31 32 33\n",
      " 34 35 36 37 38 39 40 41 42 43 44 45 46 47 48 49]\n"
     ]
    }
   ],
   "source": [
    "z = np.arange(10,50)\n",
    "print(z)"
   ]
  },
  {
   "cell_type": "markdown",
   "id": "c36f535c",
   "metadata": {},
   "source": [
    "### 2. z를 반전하세요."
   ]
  },
  {
   "cell_type": "code",
   "execution_count": 3,
   "id": "b29f828e",
   "metadata": {},
   "outputs": [
    {
     "name": "stdout",
     "output_type": "stream",
     "text": [
      "[49 48 47 46 45 44 43 42 41 40 39 38 37 36 35 34 33 32 31 30 29 28 27 26\n",
      " 25 24 23 22 21 20 19 18 17 16 15 14 13 12 11 10]\n"
     ]
    }
   ],
   "source": [
    "z = z[::-1]\n",
    "print(z)"
   ]
  },
  {
   "cell_type": "markdown",
   "id": "1448df0f",
   "metadata": {},
   "source": [
    "### 3. 반전시킨 z 매트릭스를 10 x 4 매트릭스로 바꾸세요."
   ]
  },
  {
   "cell_type": "code",
   "execution_count": 4,
   "id": "b08e88c9",
   "metadata": {
    "scrolled": true
   },
   "outputs": [
    {
     "name": "stdout",
     "output_type": "stream",
     "text": [
      "[[49 48 47 46]\n",
      " [45 44 43 42]\n",
      " [41 40 39 38]\n",
      " [37 36 35 34]\n",
      " [33 32 31 30]\n",
      " [29 28 27 26]\n",
      " [25 24 23 22]\n",
      " [21 20 19 18]\n",
      " [17 16 15 14]\n",
      " [13 12 11 10]]\n"
     ]
    }
   ],
   "source": [
    "z = z.reshape((10,4))\n",
    "print(z)"
   ]
  },
  {
   "cell_type": "markdown",
   "id": "30a5e2c0",
   "metadata": {},
   "source": [
    "### 4. x에서 0이 아닌 요소의 색인을 찾아보세요."
   ]
  },
  {
   "cell_type": "code",
   "execution_count": 5,
   "id": "65bc184d",
   "metadata": {},
   "outputs": [
    {
     "name": "stdout",
     "output_type": "stream",
     "text": [
      "(array([0, 1, 2, 4, 6]),)\n"
     ]
    }
   ],
   "source": [
    "x = np.array([5,6,8,0,1,0,7])\n",
    "nz_idx = np.nonzero(x)\n",
    "print(nz_idx)"
   ]
  },
  {
   "cell_type": "markdown",
   "id": "ed9849e3",
   "metadata": {},
   "source": [
    "### 5. 12 x 12 매트릭스를 만들어 바둑판 패턴으로 0과 1을 채우세요"
   ]
  },
  {
   "cell_type": "code",
   "execution_count": 6,
   "id": "a9a6cd41",
   "metadata": {},
   "outputs": [
    {
     "name": "stdout",
     "output_type": "stream",
     "text": [
      "[[0. 0. 0. 0. 0. 0. 0. 0. 0. 0. 0. 0.]\n",
      " [0. 0. 0. 0. 0. 0. 0. 0. 0. 0. 0. 0.]\n",
      " [0. 0. 0. 0. 0. 0. 0. 0. 0. 0. 0. 0.]\n",
      " [0. 0. 0. 0. 0. 0. 0. 0. 0. 0. 0. 0.]\n",
      " [0. 0. 0. 0. 0. 0. 0. 0. 0. 0. 0. 0.]\n",
      " [0. 0. 0. 0. 0. 0. 0. 0. 0. 0. 0. 0.]\n",
      " [0. 0. 0. 0. 0. 0. 0. 0. 0. 0. 0. 0.]\n",
      " [0. 0. 0. 0. 0. 0. 0. 0. 0. 0. 0. 0.]\n",
      " [0. 0. 0. 0. 0. 0. 0. 0. 0. 0. 0. 0.]\n",
      " [0. 0. 0. 0. 0. 0. 0. 0. 0. 0. 0. 0.]\n",
      " [0. 0. 0. 0. 0. 0. 0. 0. 0. 0. 0. 0.]\n",
      " [0. 0. 0. 0. 0. 0. 0. 0. 0. 0. 0. 0.]]\n",
      "\n",
      "[[0. 1. 0. 1. 0. 1. 0. 1. 0. 1. 0. 1.]\n",
      " [1. 0. 1. 0. 1. 0. 1. 0. 1. 0. 1. 0.]\n",
      " [0. 1. 0. 1. 0. 1. 0. 1. 0. 1. 0. 1.]\n",
      " [1. 0. 1. 0. 1. 0. 1. 0. 1. 0. 1. 0.]\n",
      " [0. 1. 0. 1. 0. 1. 0. 1. 0. 1. 0. 1.]\n",
      " [1. 0. 1. 0. 1. 0. 1. 0. 1. 0. 1. 0.]\n",
      " [0. 1. 0. 1. 0. 1. 0. 1. 0. 1. 0. 1.]\n",
      " [1. 0. 1. 0. 1. 0. 1. 0. 1. 0. 1. 0.]\n",
      " [0. 1. 0. 1. 0. 1. 0. 1. 0. 1. 0. 1.]\n",
      " [1. 0. 1. 0. 1. 0. 1. 0. 1. 0. 1. 0.]\n",
      " [0. 1. 0. 1. 0. 1. 0. 1. 0. 1. 0. 1.]\n",
      " [1. 0. 1. 0. 1. 0. 1. 0. 1. 0. 1. 0.]]\n"
     ]
    }
   ],
   "source": [
    "x = np.zeros((12, 12))\n",
    "print(x, end='\\n\\n')\n",
    "###############\n",
    "# 슬라이싱을 사용하세요\n",
    "\n",
    "x[1::2, ::2] = 1\n",
    "x[::2, 1::2] = 1\n",
    "\n",
    "###############\n",
    "print(x)"
   ]
  },
  {
   "cell_type": "markdown",
   "id": "6884d659",
   "metadata": {},
   "source": [
    "### 6. np.tile 을 이용해서 동일한 바둑판 배턴을 만들어보세요"
   ]
  },
  {
   "cell_type": "code",
   "execution_count": 7,
   "id": "56390392",
   "metadata": {},
   "outputs": [
    {
     "name": "stdout",
     "output_type": "stream",
     "text": [
      "[[0 1 0 1 0 1 0 1 0 1 0 1]\n",
      " [1 0 1 0 1 0 1 0 1 0 1 0]\n",
      " [0 1 0 1 0 1 0 1 0 1 0 1]\n",
      " [1 0 1 0 1 0 1 0 1 0 1 0]\n",
      " [0 1 0 1 0 1 0 1 0 1 0 1]\n",
      " [1 0 1 0 1 0 1 0 1 0 1 0]\n",
      " [0 1 0 1 0 1 0 1 0 1 0 1]\n",
      " [1 0 1 0 1 0 1 0 1 0 1 0]\n",
      " [0 1 0 1 0 1 0 1 0 1 0 1]\n",
      " [1 0 1 0 1 0 1 0 1 0 1 0]\n",
      " [0 1 0 1 0 1 0 1 0 1 0 1]\n",
      " [1 0 1 0 1 0 1 0 1 0 1 0]]\n"
     ]
    }
   ],
   "source": [
    "x = np.tile(np.array([[0,1],[1,0]]), (6, 6))\n",
    "print(x)"
   ]
  },
  {
   "cell_type": "markdown",
   "id": "2333bf3c",
   "metadata": {},
   "source": [
    "### 7. 1차원 배열이 x에서 값이 5~10인 요소를 0으로 바꾸세요"
   ]
  },
  {
   "cell_type": "code",
   "execution_count": 8,
   "id": "0dc4e5ac",
   "metadata": {},
   "outputs": [
    {
     "name": "stdout",
     "output_type": "stream",
     "text": [
      "[ 2  5  3  8  3 34 23  7 10]\n",
      "[ 2  0  3  0  3 34 23  0  0]\n"
     ]
    }
   ],
   "source": [
    "x = np.array([2,5,3,8,3,34,23,7,10])\n",
    "print(x)\n",
    "##################\n",
    "# 필터링을 사용하세요.\n",
    "x[(x>=5) & (x<=10)] = 0\n",
    "\n",
    "##################\n",
    "print(x)"
   ]
  },
  {
   "cell_type": "markdown",
   "id": "de062553",
   "metadata": {},
   "source": [
    "### 8. 0에서 100 사이의 값으로 크기가 10인 1차원 array를 만드세요"
   ]
  },
  {
   "cell_type": "code",
   "execution_count": 9,
   "id": "36472578",
   "metadata": {},
   "outputs": [
    {
     "name": "stdout",
     "output_type": "stream",
     "text": [
      "[  0.          11.11111111  22.22222222  33.33333333  44.44444444\n",
      "  55.55555556  66.66666667  77.77777778  88.88888889 100.        ]\n"
     ]
    }
   ],
   "source": [
    "x = np.linspace(0, 100, 10)\n",
    "print(x)"
   ]
  },
  {
   "cell_type": "markdown",
   "id": "ad89aaa1",
   "metadata": {},
   "source": [
    "### 9. np.allclose() 함수를 사용하여 2개의 array가 같은지를 확인해보세요"
   ]
  },
  {
   "cell_type": "code",
   "execution_count": 10,
   "id": "9adcd70a",
   "metadata": {},
   "outputs": [
    {
     "name": "stdout",
     "output_type": "stream",
     "text": [
      "True\n"
     ]
    }
   ],
   "source": [
    "A = np.array([1e10,1e-8])\n",
    "B = np.array([1.00001e10,1e-9])\n",
    "\n",
    "equal = np.allclose(A,B)\n",
    "print(equal)"
   ]
  },
  {
   "cell_type": "markdown",
   "id": "2dcc5dc4",
   "metadata": {},
   "source": [
    "### 10. 데카르트 좌표를 나타내는 랜덤 8 x 2 행렬을 고려하여 극좌표로 변환해보세요."
   ]
  },
  {
   "cell_type": "code",
   "execution_count": 11,
   "id": "f6a6d19b",
   "metadata": {},
   "outputs": [],
   "source": [
    "coord = np.random.random((10,2))\n",
    "x, y = coord[:,0], coord[:,1]"
   ]
  },
  {
   "cell_type": "code",
   "execution_count": 15,
   "id": "d79e729c",
   "metadata": {},
   "outputs": [
    {
     "name": "stdout",
     "output_type": "stream",
     "text": [
      "[[0.59291819 0.63083844]\n",
      " [0.36239226 0.58426618]\n",
      " [0.72009085 0.7074539 ]\n",
      " [0.77996503 1.53963128]\n",
      " [0.52059172 0.69296478]\n",
      " [0.84775888 0.87046849]\n",
      " [0.02193584 0.25184766]\n",
      " [0.97641362 0.80223454]\n",
      " [0.03884666 0.0635102 ]\n",
      " [0.43495798 0.46253496]]\n"
     ]
    }
   ],
   "source": [
    "coord = np.random.random((10,2))\n",
    "x, y = coord[:,0], coord[:,1]\n",
    "r = np.sqrt(x**2,y**2)\n",
    "theta = np.arctan2(x,y)\n",
    "ploar_coord = np.concatenate([r[:,np.newaxis], theta[:,np.newaxis]],axis=1)\n",
    "print(ploar_coord)"
   ]
  },
  {
   "cell_type": "code",
   "execution_count": null,
   "id": "60f215ad",
   "metadata": {},
   "outputs": [],
   "source": []
  }
 ],
 "metadata": {
  "kernelspec": {
   "display_name": "Python 3 (ipykernel)",
   "language": "python",
   "name": "python3"
  },
  "language_info": {
   "codemirror_mode": {
    "name": "ipython",
    "version": 3
   },
   "file_extension": ".py",
   "mimetype": "text/x-python",
   "name": "python",
   "nbconvert_exporter": "python",
   "pygments_lexer": "ipython3",
   "version": "3.9.7"
  }
 },
 "nbformat": 4,
 "nbformat_minor": 5
}
